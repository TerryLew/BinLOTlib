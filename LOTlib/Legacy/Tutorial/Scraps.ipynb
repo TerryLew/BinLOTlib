{
 "metadata": {
  "name": "",
  "signature": "sha256:c67ba956fe0f9afc8bee25372bd978d2ecdd26672f00670c408b49e399ac7ee8"
 },
 "nbformat": 3,
 "nbformat_minor": 0,
 "worksheets": [
  {
   "cells": [
    {
     "cell_type": "markdown",
     "metadata": {},
     "source": [
      "----\n",
      "\n",
      "----\n",
      "\n",
      "# SCRAP"
     ]
    },
    {
     "cell_type": "code",
     "collapsed": false,
     "input": [
      "from pylab import *\n",
      "\n",
      "# create figure & set domain\n",
      "figure(num=None, figsize=(8, 4), dpi=80, facecolor='w', edgecolor='k')\n",
      "domain = 100\n",
      "drange = (1,domain)\n",
      "ticks = [1,10,20,30,40,50,60,70,80,90,100]\n",
      "\n",
      "# overall data\n",
      "ax0 = subplot(311)\n",
      "ax0.set_xticks(ticks)\n",
      "rects = plt.bar(range(1,domain+1), predictive_dist)\n",
      "\n",
      "\n",
      "# data 1\n",
      "x1 = [2,4,8,16,32,64]\n",
      "ax1 = subplot(312, sharex=ax0, sharey=ax0)\n",
      "ax1.yaxis.set_visible(False)\n",
      "pylab.hist(x1, bins=domain, range=drange)\n",
      "\n",
      "# data 2\n",
      "x2 = [1,3,7,15,31,63]\n",
      "ax2 = subplot(313, sharex=ax1, sharey=ax1)\n",
      "ax2.yaxis.set_visible(False)\n",
      "pylab.hist(x2, bins=domain, range=drange)\n",
      "show()\n",
      "\n",
      "\n",
      "# ax1 = subplot(311)\n",
      "# rects = plt.bar(range(1,domain+1), predictive_dist)\n",
      "\n",
      "# plt.xlabel('Domain (from 1 to '+str(domain)+')')\n",
      "# plt.ylabel('Probability of sampling this value')\n",
      "# plt.title('This graph needs a title!')\n",
      "\n",
      "# plt.show()\n",
      "\n"
     ],
     "language": "python",
     "metadata": {},
     "outputs": [
      {
       "ename": "NameError",
       "evalue": "name 'predictive_dist' is not defined",
       "output_type": "pyerr",
       "traceback": [
        "\u001b[0;31m---------------------------------------------------------------------------\u001b[0m\n\u001b[0;31mNameError\u001b[0m                                 Traceback (most recent call last)",
        "\u001b[0;32m<ipython-input-2-18fdf051f470>\u001b[0m in \u001b[0;36m<module>\u001b[0;34m()\u001b[0m\n\u001b[1;32m     10\u001b[0m \u001b[0max0\u001b[0m \u001b[0;34m=\u001b[0m \u001b[0msubplot\u001b[0m\u001b[0;34m(\u001b[0m\u001b[0;36m311\u001b[0m\u001b[0;34m)\u001b[0m\u001b[0;34m\u001b[0m\u001b[0m\n\u001b[1;32m     11\u001b[0m \u001b[0max0\u001b[0m\u001b[0;34m.\u001b[0m\u001b[0mset_xticks\u001b[0m\u001b[0;34m(\u001b[0m\u001b[0mticks\u001b[0m\u001b[0;34m)\u001b[0m\u001b[0;34m\u001b[0m\u001b[0m\n\u001b[0;32m---> 12\u001b[0;31m \u001b[0mrects\u001b[0m \u001b[0;34m=\u001b[0m \u001b[0mplt\u001b[0m\u001b[0;34m.\u001b[0m\u001b[0mbar\u001b[0m\u001b[0;34m(\u001b[0m\u001b[0mrange\u001b[0m\u001b[0;34m(\u001b[0m\u001b[0;36m1\u001b[0m\u001b[0;34m,\u001b[0m\u001b[0mdomain\u001b[0m\u001b[0;34m+\u001b[0m\u001b[0;36m1\u001b[0m\u001b[0;34m)\u001b[0m\u001b[0;34m,\u001b[0m \u001b[0mpredictive_dist\u001b[0m\u001b[0;34m)\u001b[0m\u001b[0;34m\u001b[0m\u001b[0m\n\u001b[0m\u001b[1;32m     13\u001b[0m \u001b[0;34m\u001b[0m\u001b[0m\n\u001b[1;32m     14\u001b[0m \u001b[0;34m\u001b[0m\u001b[0m\n",
        "\u001b[0;31mNameError\u001b[0m: name 'predictive_dist' is not defined"
       ]
      }
     ],
     "prompt_number": 2
    },
    {
     "cell_type": "code",
     "collapsed": false,
     "input": [
      "figure(num=None, figsize=(8, 1.5), dpi=80, facecolor='w', edgecolor='k')\n",
      "hist([1,5, 25], bins=domain, range=(1,domain))\n"
     ],
     "language": "python",
     "metadata": {},
     "outputs": [
      {
       "ename": "NameError",
       "evalue": "name 'figure' is not defined",
       "output_type": "pyerr",
       "traceback": [
        "\u001b[0;31m---------------------------------------------------------------------------\u001b[0m\n\u001b[0;31mNameError\u001b[0m                                 Traceback (most recent call last)",
        "\u001b[0;32m<ipython-input-1-7d179d1980ac>\u001b[0m in \u001b[0;36m<module>\u001b[0;34m()\u001b[0m\n\u001b[0;32m----> 1\u001b[0;31m \u001b[0mfigure\u001b[0m\u001b[0;34m(\u001b[0m\u001b[0mnum\u001b[0m\u001b[0;34m=\u001b[0m\u001b[0mNone\u001b[0m\u001b[0;34m,\u001b[0m \u001b[0mfigsize\u001b[0m\u001b[0;34m=\u001b[0m\u001b[0;34m(\u001b[0m\u001b[0;36m8\u001b[0m\u001b[0;34m,\u001b[0m \u001b[0;36m1.5\u001b[0m\u001b[0;34m)\u001b[0m\u001b[0;34m,\u001b[0m \u001b[0mdpi\u001b[0m\u001b[0;34m=\u001b[0m\u001b[0;36m80\u001b[0m\u001b[0;34m,\u001b[0m \u001b[0mfacecolor\u001b[0m\u001b[0;34m=\u001b[0m\u001b[0;34m'w'\u001b[0m\u001b[0;34m,\u001b[0m \u001b[0medgecolor\u001b[0m\u001b[0;34m=\u001b[0m\u001b[0;34m'k'\u001b[0m\u001b[0;34m)\u001b[0m\u001b[0;34m\u001b[0m\u001b[0m\n\u001b[0m\u001b[1;32m      2\u001b[0m \u001b[0mhist\u001b[0m\u001b[0;34m(\u001b[0m\u001b[0;34m[\u001b[0m\u001b[0;36m1\u001b[0m\u001b[0;34m,\u001b[0m\u001b[0;36m5\u001b[0m\u001b[0;34m,\u001b[0m \u001b[0;36m25\u001b[0m\u001b[0;34m]\u001b[0m\u001b[0;34m,\u001b[0m \u001b[0mbins\u001b[0m\u001b[0;34m=\u001b[0m\u001b[0mdomain\u001b[0m\u001b[0;34m,\u001b[0m \u001b[0mrange\u001b[0m\u001b[0;34m=\u001b[0m\u001b[0;34m(\u001b[0m\u001b[0;36m1\u001b[0m\u001b[0;34m,\u001b[0m\u001b[0mdomain\u001b[0m\u001b[0;34m)\u001b[0m\u001b[0;34m)\u001b[0m\u001b[0;34m\u001b[0m\u001b[0m\n",
        "\u001b[0;31mNameError\u001b[0m: name 'figure' is not defined"
       ]
      }
     ],
     "prompt_number": 1
    },
    {
     "cell_type": "markdown",
     "metadata": {},
     "source": [
      "### Concepts and Rules (with Candy)\n",
      "What do we mean by \"learning of concepts\"? (we'll come back to \"compositional learning\" later) Consider the following example:\n",
      "\n",
      "A child is sorting through a bag of unlabeled candies, trying to decipher their flavors. The child takes candies one at a time, and tastes them to determine their flavor. We might imagine a set of ad-hoc rules such as \"red candies are strawberry-flavored\", \"green candies are apple-flavored\", and \"black candies are black licorice-flavored (yuck!)\". \n",
      "\n",
      "$\n",
      "Red \\longrightarrow strawberry \\\\\n",
      "Green \\longrightarrow apple \\\\\n",
      "Black \\longrightarrow black\\ licorice \\\\\n",
      "$\n",
      "\n",
      "Generally speaking, this child is monitoring a stream of information, trying to decipher useful rules. By tasting candies, the child acquires evidence about the world. \n",
      "\n",
      "We can easily imagine faulty rules that do not fit with the evidence, for example \"green candies are black licorice-flavored\". In a world where black licorice candy can be either green or black, this would be a valid rule. We can also imagine less useful rules such as \"red candies might be cherry, strawberry, or apple-flavored.\" \n",
      "\n",
      "$\n",
      "Red \\longrightarrow strawberry \\\\\n",
      "Red \\longrightarrow cherry \\\\\n",
      "Red \\longrightarrow apple \\\\\n",
      "$\n",
      "\n",
      "This is less useful because if I only like cherry candies and I grab a red candy, we can only estimate with .33 probability that it is cherry-flavored. Now, this is all a very trivial example, but we can make things a little bit more interesting. I close my eyes whilst a friend feeds me candies of only a single color. Each candy seems to be apple-flavored. Did the friend choose green or red colored candies to feed me? Clearly I'll guess green, since it's very likely that after many red candies, I would have tasted at least one strawberry or cherry. The more apple candies I taste without tasting any others, the more I am convinced that the color my friend has chosen is green.\n",
      "\n",
      "Now, let's examine a more elaborate example with a concrete implementation."
     ]
    }
   ],
   "metadata": {}
  }
 ]
}