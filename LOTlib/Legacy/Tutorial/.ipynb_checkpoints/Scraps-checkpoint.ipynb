{
 "metadata": {
  "name": "",
  "signature": "sha256:f1bfd533de96c9f4f3b23a4ffb98aef3a6bb9ee0c73c5c3df8dd3dc3cb2667d8"
 },
 "nbformat": 3,
 "nbformat_minor": 0,
 "worksheets": []
}