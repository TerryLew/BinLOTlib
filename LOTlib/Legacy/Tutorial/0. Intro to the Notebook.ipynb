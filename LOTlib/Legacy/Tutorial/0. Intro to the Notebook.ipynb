{
 "metadata": {
  "name": "",
  "signature": "sha256:fd697ded3ebb81e2a256f908085f44f6980babde2554e8a8951b85435d94fd47"
 },
 "nbformat": 3,
 "nbformat_minor": 0,
 "worksheets": [
  {
   "cells": [
    {
     "cell_type": "markdown",
     "metadata": {},
     "source": [
      "###iPython Notebook\n",
      "\n",
      "iPython Notebook is a tool that lets us work with code in a cell format. This is great because cells of code are much easier to tweak and play with; it feels you're working in a text editor, but also using the python console at the same time (with autocomplete!). You can also mix code with easy-to-read text like this.\n",
      "\n",
      "What you should know: \n",
      "- the notebook works in 2 modes: edit mode and command mode\n",
      "- in *edit mode*, we edit text within a cell\n",
      "    - **esc** lets us exit to *command mode*\n",
      "    - **ctrl + enter** lets us execute the code in the current cell, at any time\n",
      "- in *command mode*, we use the **arrow keys** to navigate between cells\n",
      "    - **enter** brings us into *edit mode* so we can edit the selected cell\n",
      "    - **ctrl + enter** still executes the current cell\n",
      "    - **h** displays a super-useful guide of all keyboard shortcuts\n",
      "- the notebook also adds useful python tools, especially for displaying graphs and images inside the notebook"
     ]
    },
    {
     "cell_type": "code",
     "collapsed": false,
     "input": [],
     "language": "python",
     "metadata": {},
     "outputs": []
    }
   ],
   "metadata": {}
  }
 ]
}